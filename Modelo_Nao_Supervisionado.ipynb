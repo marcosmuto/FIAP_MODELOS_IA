{
 "cells": [
  {
   "cell_type": "code",
   "execution_count": 2,
   "metadata": {},
   "outputs": [],
   "source": [
    "import seaborn as sns\n",
    "import matplotlib.pyplot as plt\n",
    "import pandas as pd\n",
    "import numpy as np\n",
    "import warnings\n",
    "warnings.filterwarnings('ignore')\n",
    "\n",
    "plt.figure(figsize=(100,100))\n",
    "\n",
    "%matplotlib inline"
   ]
  },
  {
   "cell_type": "markdown",
   "metadata": {},
   "source": [
    "Determinar grupos para campanhas de marketing de consumidores de canais Web"
   ]
  },
  {
   "cell_type": "markdown",
   "metadata": {},
   "source": [
    "## Análise da Base de Dados"
   ]
  },
  {
   "cell_type": "code",
   "execution_count": 3,
   "metadata": {},
   "outputs": [
    {
     "data": {
      "text/html": [
       "<div>\n",
       "<style scoped>\n",
       "    .dataframe tbody tr th:only-of-type {\n",
       "        vertical-align: middle;\n",
       "    }\n",
       "\n",
       "    .dataframe tbody tr th {\n",
       "        vertical-align: top;\n",
       "    }\n",
       "\n",
       "    .dataframe thead th {\n",
       "        text-align: right;\n",
       "    }\n",
       "</style>\n",
       "<table border=\"1\" class=\"dataframe\">\n",
       "  <thead>\n",
       "    <tr style=\"text-align: right;\">\n",
       "      <th></th>\n",
       "      <th>order_id</th>\n",
       "      <th>order_status</th>\n",
       "      <th>order_products_value</th>\n",
       "      <th>order_freight_value</th>\n",
       "      <th>order_items_qty</th>\n",
       "      <th>order_sellers_qty</th>\n",
       "      <th>order_purchase_timestamp</th>\n",
       "      <th>order_aproved_at</th>\n",
       "      <th>order_estimated_delivery_date</th>\n",
       "      <th>order_delivered_customer_date</th>\n",
       "      <th>...</th>\n",
       "      <th>product_name_lenght</th>\n",
       "      <th>product_description_lenght</th>\n",
       "      <th>product_photos_qty</th>\n",
       "      <th>product_id</th>\n",
       "      <th>review_id</th>\n",
       "      <th>review_score</th>\n",
       "      <th>review_comment_title</th>\n",
       "      <th>review_comment_message</th>\n",
       "      <th>review_creation_date</th>\n",
       "      <th>review_answer_timestamp</th>\n",
       "    </tr>\n",
       "  </thead>\n",
       "  <tbody>\n",
       "    <tr>\n",
       "      <th>0</th>\n",
       "      <td>b95df3cef5297e79ef709ba256518f6f</td>\n",
       "      <td>delivered</td>\n",
       "      <td>349.90</td>\n",
       "      <td>13.84</td>\n",
       "      <td>1</td>\n",
       "      <td>1</td>\n",
       "      <td>2017-01-31 17:19:01.000000</td>\n",
       "      <td>2017-02-01 02:41:21.549551</td>\n",
       "      <td>2017-03-15 00:00:00.000000</td>\n",
       "      <td>2017-02-06 11:04:24.154259</td>\n",
       "      <td>...</td>\n",
       "      <td>51</td>\n",
       "      <td>625</td>\n",
       "      <td>1</td>\n",
       "      <td>6cdd53843498f92890544667809f1595</td>\n",
       "      <td>b95df3cef5297e79ef709ba256518f6f</td>\n",
       "      <td>5</td>\n",
       "      <td>NaN</td>\n",
       "      <td>NaN</td>\n",
       "      <td>2017-02-07 00:00:00.000000</td>\n",
       "      <td>2017-02-09 02:37:37+00:00</td>\n",
       "    </tr>\n",
       "    <tr>\n",
       "      <th>1</th>\n",
       "      <td>59af46052a799e80e2f0c665c587731d</td>\n",
       "      <td>delivered</td>\n",
       "      <td>15.00</td>\n",
       "      <td>15.10</td>\n",
       "      <td>1</td>\n",
       "      <td>1</td>\n",
       "      <td>2017-09-09 19:52:54.000000</td>\n",
       "      <td>2017-09-10 20:03:31.535281</td>\n",
       "      <td>2017-10-02 00:00:00.000000</td>\n",
       "      <td>2017-09-13 20:17:41.296915</td>\n",
       "      <td>...</td>\n",
       "      <td>44</td>\n",
       "      <td>1428</td>\n",
       "      <td>2</td>\n",
       "      <td>ae5cad88462eb7b7b61401e31c45618e</td>\n",
       "      <td>59af46052a799e80e2f0c665c587731d</td>\n",
       "      <td>5</td>\n",
       "      <td>NaN</td>\n",
       "      <td>entrega em 2 dias produto c boa qualidade otim...</td>\n",
       "      <td>2017-09-14 00:00:00.000000</td>\n",
       "      <td>2017-09-15 03:43:47+00:00</td>\n",
       "    </tr>\n",
       "    <tr>\n",
       "      <th>2</th>\n",
       "      <td>a3e6136894621db402a772c6bc72a12a</td>\n",
       "      <td>delivered</td>\n",
       "      <td>238.90</td>\n",
       "      <td>18.00</td>\n",
       "      <td>1</td>\n",
       "      <td>1</td>\n",
       "      <td>2017-01-30 17:00:09.000000</td>\n",
       "      <td>2017-01-30 17:31:25.438253</td>\n",
       "      <td>2017-03-07 00:00:00.000000</td>\n",
       "      <td>2017-02-06 15:43:04.758566</td>\n",
       "      <td>...</td>\n",
       "      <td>55</td>\n",
       "      <td>637</td>\n",
       "      <td>1</td>\n",
       "      <td>0c9ff9d8ed9b9bdd825487b3a66e05f5</td>\n",
       "      <td>a3e6136894621db402a772c6bc72a12a</td>\n",
       "      <td>5</td>\n",
       "      <td>NaN</td>\n",
       "      <td>produto veio antes do prazo informado muito ob...</td>\n",
       "      <td>2017-02-07 00:00:00.000000</td>\n",
       "      <td>2017-02-10 14:18:53+00:00</td>\n",
       "    </tr>\n",
       "    <tr>\n",
       "      <th>3</th>\n",
       "      <td>b675ea5a618922f6e679e30531b8957b</td>\n",
       "      <td>delivered</td>\n",
       "      <td>29.99</td>\n",
       "      <td>18.23</td>\n",
       "      <td>1</td>\n",
       "      <td>1</td>\n",
       "      <td>2018-03-11 18:18:36.000000</td>\n",
       "      <td>2018-03-11 18:30:37.931962</td>\n",
       "      <td>2018-04-03 00:00:00.000000</td>\n",
       "      <td>2018-04-03 20:36:43.778451</td>\n",
       "      <td>...</td>\n",
       "      <td>55</td>\n",
       "      <td>617</td>\n",
       "      <td>1</td>\n",
       "      <td>ad0a798e7941f3a5a2fb8139cb62ad78</td>\n",
       "      <td>b675ea5a618922f6e679e30531b8957b</td>\n",
       "      <td>4</td>\n",
       "      <td>NaN</td>\n",
       "      <td>NaN</td>\n",
       "      <td>2018-04-04 00:00:00.000000</td>\n",
       "      <td>2018-04-05 02:52:31+00:00</td>\n",
       "    </tr>\n",
       "    <tr>\n",
       "      <th>4</th>\n",
       "      <td>195a8be6794c487fe6cfbb97b7c61902</td>\n",
       "      <td>delivered</td>\n",
       "      <td>295.99</td>\n",
       "      <td>47.65</td>\n",
       "      <td>1</td>\n",
       "      <td>1</td>\n",
       "      <td>2017-04-20 08:01:08.000000</td>\n",
       "      <td>2017-04-25 08:05:40.405383</td>\n",
       "      <td>2017-05-24 00:00:00.000000</td>\n",
       "      <td>2017-05-04 18:47:45.721758</td>\n",
       "      <td>...</td>\n",
       "      <td>49</td>\n",
       "      <td>558</td>\n",
       "      <td>2</td>\n",
       "      <td>eaf2046d4c87809247a30050ea13df03</td>\n",
       "      <td>195a8be6794c487fe6cfbb97b7c61902</td>\n",
       "      <td>5</td>\n",
       "      <td>NaN</td>\n",
       "      <td>NaN</td>\n",
       "      <td>2017-05-05 00:00:00.000000</td>\n",
       "      <td>2017-05-08 15:20:18+00:00</td>\n",
       "    </tr>\n",
       "  </tbody>\n",
       "</table>\n",
       "<p>5 rows × 25 columns</p>\n",
       "</div>"
      ],
      "text/plain": [
       "                           order_id order_status  order_products_value  \\\n",
       "0  b95df3cef5297e79ef709ba256518f6f    delivered                349.90   \n",
       "1  59af46052a799e80e2f0c665c587731d    delivered                 15.00   \n",
       "2  a3e6136894621db402a772c6bc72a12a    delivered                238.90   \n",
       "3  b675ea5a618922f6e679e30531b8957b    delivered                 29.99   \n",
       "4  195a8be6794c487fe6cfbb97b7c61902    delivered                295.99   \n",
       "\n",
       "   order_freight_value  order_items_qty  order_sellers_qty  \\\n",
       "0                13.84                1                  1   \n",
       "1                15.10                1                  1   \n",
       "2                18.00                1                  1   \n",
       "3                18.23                1                  1   \n",
       "4                47.65                1                  1   \n",
       "\n",
       "     order_purchase_timestamp            order_aproved_at  \\\n",
       "0  2017-01-31 17:19:01.000000  2017-02-01 02:41:21.549551   \n",
       "1  2017-09-09 19:52:54.000000  2017-09-10 20:03:31.535281   \n",
       "2  2017-01-30 17:00:09.000000  2017-01-30 17:31:25.438253   \n",
       "3  2018-03-11 18:18:36.000000  2018-03-11 18:30:37.931962   \n",
       "4  2017-04-20 08:01:08.000000  2017-04-25 08:05:40.405383   \n",
       "\n",
       "  order_estimated_delivery_date order_delivered_customer_date  \\\n",
       "0    2017-03-15 00:00:00.000000    2017-02-06 11:04:24.154259   \n",
       "1    2017-10-02 00:00:00.000000    2017-09-13 20:17:41.296915   \n",
       "2    2017-03-07 00:00:00.000000    2017-02-06 15:43:04.758566   \n",
       "3    2018-04-03 00:00:00.000000    2018-04-03 20:36:43.778451   \n",
       "4    2017-05-24 00:00:00.000000    2017-05-04 18:47:45.721758   \n",
       "\n",
       "             ...             product_name_lenght product_description_lenght  \\\n",
       "0            ...                              51                        625   \n",
       "1            ...                              44                       1428   \n",
       "2            ...                              55                        637   \n",
       "3            ...                              55                        617   \n",
       "4            ...                              49                        558   \n",
       "\n",
       "  product_photos_qty                        product_id  \\\n",
       "0                  1  6cdd53843498f92890544667809f1595   \n",
       "1                  2  ae5cad88462eb7b7b61401e31c45618e   \n",
       "2                  1  0c9ff9d8ed9b9bdd825487b3a66e05f5   \n",
       "3                  1  ad0a798e7941f3a5a2fb8139cb62ad78   \n",
       "4                  2  eaf2046d4c87809247a30050ea13df03   \n",
       "\n",
       "                          review_id  review_score  review_comment_title  \\\n",
       "0  b95df3cef5297e79ef709ba256518f6f             5                   NaN   \n",
       "1  59af46052a799e80e2f0c665c587731d             5                   NaN   \n",
       "2  a3e6136894621db402a772c6bc72a12a             5                   NaN   \n",
       "3  b675ea5a618922f6e679e30531b8957b             4                   NaN   \n",
       "4  195a8be6794c487fe6cfbb97b7c61902             5                   NaN   \n",
       "\n",
       "                              review_comment_message  \\\n",
       "0                                                NaN   \n",
       "1  entrega em 2 dias produto c boa qualidade otim...   \n",
       "2  produto veio antes do prazo informado muito ob...   \n",
       "3                                                NaN   \n",
       "4                                                NaN   \n",
       "\n",
       "         review_creation_date    review_answer_timestamp  \n",
       "0  2017-02-07 00:00:00.000000  2017-02-09 02:37:37+00:00  \n",
       "1  2017-09-14 00:00:00.000000  2017-09-15 03:43:47+00:00  \n",
       "2  2017-02-07 00:00:00.000000  2017-02-10 14:18:53+00:00  \n",
       "3  2018-04-04 00:00:00.000000  2018-04-05 02:52:31+00:00  \n",
       "4  2017-05-05 00:00:00.000000  2017-05-08 15:20:18+00:00  \n",
       "\n",
       "[5 rows x 25 columns]"
      ]
     },
     "execution_count": 3,
     "metadata": {},
     "output_type": "execute_result"
    }
   ],
   "source": [
    "# data set extraido de https://www.kaggle.com/olistbr/brazilian-ecommerce#olist_public_dataset_v2.csv\n",
    "\n",
    "compras = pd.read_csv('olist_public_dataset_v2.csv')\n",
    "\n",
    "compras.head(5)"
   ]
  },
  {
   "cell_type": "code",
   "execution_count": 4,
   "metadata": {},
   "outputs": [
    {
     "data": {
      "text/plain": [
       "Index(['order_id', 'order_status', 'order_products_value',\n",
       "       'order_freight_value', 'order_items_qty', 'order_sellers_qty',\n",
       "       'order_purchase_timestamp', 'order_aproved_at',\n",
       "       'order_estimated_delivery_date', 'order_delivered_customer_date',\n",
       "       'customer_id', 'customer_city', 'customer_state',\n",
       "       'customer_zip_code_prefix', 'product_category_name',\n",
       "       'product_name_lenght', 'product_description_lenght',\n",
       "       'product_photos_qty', 'product_id', 'review_id', 'review_score',\n",
       "       'review_comment_title', 'review_comment_message',\n",
       "       'review_creation_date', 'review_answer_timestamp'],\n",
       "      dtype='object')"
      ]
     },
     "execution_count": 4,
     "metadata": {},
     "output_type": "execute_result"
    }
   ],
   "source": [
    "compras.columns"
   ]
  },
  {
   "cell_type": "markdown",
   "metadata": {},
   "source": [
    "Nesta base temos as seguintes variáveis:\n",
    "\n",
    "* order_id - ID da Compra (alpha numérico)\n",
    "* order_status - Status do Pedido (delivered, shipped, etc).\n",
    "* order_products_value - Total do valor dos produtos da compra, sem o valor do frete (numérico)\n",
    "* order_freight_value - Total do valor do frete\n",
    "* order_items_qty - Quantidade de items da compra\n",
    "* order_sellers_qty - Quantidade de vendedores da compra (cada item pode ser de um vendedor diferente)\n",
    "* order_purchase_timestamp - Timestamp da compra\n",
    "* order_aproved_at - Timestamp de aprovação do pagamento da compra\n",
    "* order_estimated_delivery_date - Data estimada para entrega\n",
    "* order_delivered_customer_date - Data de entrega\n",
    "* customer_id - ID do comprador para o registro\n",
    "* customer_city - Cidade do comprador\n",
    "* customer_state - Estados do comprador\n",
    "* customer_zip_code_prefix - Primeiros 3 digitos do CEP\n",
    "* product_category_name - Categoria do principal produto comprado\n",
    "* product_name_lenght - Tamanho do nome do principal produto comprado\n",
    "* product_description_lenght - Tamanho da descrição do principal produto comprado\n",
    "* product_photos_qty - Quantidade de fotos disponiveis do produto\n",
    "* product_id - ID do produto comprado\n",
    "* review_id - ID da avalização da compra\n",
    "* review_score - Nota de 1 a 5 dado pelo consumidor, avaliando a compra\n",
    "* review_comment_title - Titulo do comentário da avaliação do consumidor.\n",
    "* review_comment_message - Mensagem com o comentário da avaliação do consumidor.\n",
    "* review_creation_date - Dia da avaliação da compra\n",
    "* review_answer_timestamp - Timestamp da resposta à avaliação do consumidor."
   ]
  },
  {
   "cell_type": "code",
   "execution_count": 5,
   "metadata": {},
   "outputs": [
    {
     "data": {
      "text/html": [
       "<div>\n",
       "<style scoped>\n",
       "    .dataframe tbody tr th:only-of-type {\n",
       "        vertical-align: middle;\n",
       "    }\n",
       "\n",
       "    .dataframe tbody tr th {\n",
       "        vertical-align: top;\n",
       "    }\n",
       "\n",
       "    .dataframe thead th {\n",
       "        text-align: right;\n",
       "    }\n",
       "</style>\n",
       "<table border=\"1\" class=\"dataframe\">\n",
       "  <thead>\n",
       "    <tr style=\"text-align: right;\">\n",
       "      <th></th>\n",
       "      <th>order_products_value</th>\n",
       "      <th>order_freight_value</th>\n",
       "      <th>order_items_qty</th>\n",
       "      <th>order_sellers_qty</th>\n",
       "      <th>customer_zip_code_prefix</th>\n",
       "      <th>product_name_lenght</th>\n",
       "      <th>product_description_lenght</th>\n",
       "      <th>product_photos_qty</th>\n",
       "      <th>review_score</th>\n",
       "    </tr>\n",
       "  </thead>\n",
       "  <tbody>\n",
       "    <tr>\n",
       "      <th>count</th>\n",
       "      <td>100000.000000</td>\n",
       "      <td>100000.000000</td>\n",
       "      <td>100000.000000</td>\n",
       "      <td>100000.000000</td>\n",
       "      <td>100000.000000</td>\n",
       "      <td>100000.000000</td>\n",
       "      <td>100000.000000</td>\n",
       "      <td>100000.0000</td>\n",
       "      <td>100000.000000</td>\n",
       "    </tr>\n",
       "    <tr>\n",
       "      <th>mean</th>\n",
       "      <td>129.191704</td>\n",
       "      <td>21.739202</td>\n",
       "      <td>1.100090</td>\n",
       "      <td>1.141690</td>\n",
       "      <td>353.768400</td>\n",
       "      <td>48.839630</td>\n",
       "      <td>779.020710</td>\n",
       "      <td>2.2781</td>\n",
       "      <td>4.054110</td>\n",
       "    </tr>\n",
       "    <tr>\n",
       "      <th>std</th>\n",
       "      <td>194.863060</td>\n",
       "      <td>20.088368</td>\n",
       "      <td>0.459189</td>\n",
       "      <td>0.708829</td>\n",
       "      <td>297.682699</td>\n",
       "      <td>10.139335</td>\n",
       "      <td>665.387848</td>\n",
       "      <td>1.7495</td>\n",
       "      <td>1.363591</td>\n",
       "    </tr>\n",
       "    <tr>\n",
       "      <th>min</th>\n",
       "      <td>2.000000</td>\n",
       "      <td>0.000000</td>\n",
       "      <td>1.000000</td>\n",
       "      <td>1.000000</td>\n",
       "      <td>10.000000</td>\n",
       "      <td>5.000000</td>\n",
       "      <td>8.000000</td>\n",
       "      <td>1.0000</td>\n",
       "      <td>1.000000</td>\n",
       "    </tr>\n",
       "    <tr>\n",
       "      <th>25%</th>\n",
       "      <td>46.990000</td>\n",
       "      <td>13.470000</td>\n",
       "      <td>1.000000</td>\n",
       "      <td>1.000000</td>\n",
       "      <td>116.000000</td>\n",
       "      <td>42.000000</td>\n",
       "      <td>340.000000</td>\n",
       "      <td>1.0000</td>\n",
       "      <td>4.000000</td>\n",
       "    </tr>\n",
       "    <tr>\n",
       "      <th>50%</th>\n",
       "      <td>83.650000</td>\n",
       "      <td>16.790000</td>\n",
       "      <td>1.000000</td>\n",
       "      <td>1.000000</td>\n",
       "      <td>250.000000</td>\n",
       "      <td>52.000000</td>\n",
       "      <td>591.000000</td>\n",
       "      <td>2.0000</td>\n",
       "      <td>5.000000</td>\n",
       "    </tr>\n",
       "    <tr>\n",
       "      <th>75%</th>\n",
       "      <td>145.900000</td>\n",
       "      <td>23.010000</td>\n",
       "      <td>1.000000</td>\n",
       "      <td>1.000000</td>\n",
       "      <td>590.000000</td>\n",
       "      <td>57.000000</td>\n",
       "      <td>978.000000</td>\n",
       "      <td>3.0000</td>\n",
       "      <td>5.000000</td>\n",
       "    </tr>\n",
       "    <tr>\n",
       "      <th>max</th>\n",
       "      <td>13440.000000</td>\n",
       "      <td>1562.100000</td>\n",
       "      <td>20.000000</td>\n",
       "      <td>30.000000</td>\n",
       "      <td>999.000000</td>\n",
       "      <td>72.000000</td>\n",
       "      <td>3992.000000</td>\n",
       "      <td>20.0000</td>\n",
       "      <td>5.000000</td>\n",
       "    </tr>\n",
       "  </tbody>\n",
       "</table>\n",
       "</div>"
      ],
      "text/plain": [
       "       order_products_value  order_freight_value  order_items_qty  \\\n",
       "count         100000.000000        100000.000000    100000.000000   \n",
       "mean             129.191704            21.739202         1.100090   \n",
       "std              194.863060            20.088368         0.459189   \n",
       "min                2.000000             0.000000         1.000000   \n",
       "25%               46.990000            13.470000         1.000000   \n",
       "50%               83.650000            16.790000         1.000000   \n",
       "75%              145.900000            23.010000         1.000000   \n",
       "max            13440.000000          1562.100000        20.000000   \n",
       "\n",
       "       order_sellers_qty  customer_zip_code_prefix  product_name_lenght  \\\n",
       "count      100000.000000             100000.000000        100000.000000   \n",
       "mean            1.141690                353.768400            48.839630   \n",
       "std             0.708829                297.682699            10.139335   \n",
       "min             1.000000                 10.000000             5.000000   \n",
       "25%             1.000000                116.000000            42.000000   \n",
       "50%             1.000000                250.000000            52.000000   \n",
       "75%             1.000000                590.000000            57.000000   \n",
       "max            30.000000                999.000000            72.000000   \n",
       "\n",
       "       product_description_lenght  product_photos_qty   review_score  \n",
       "count               100000.000000         100000.0000  100000.000000  \n",
       "mean                   779.020710              2.2781       4.054110  \n",
       "std                    665.387848              1.7495       1.363591  \n",
       "min                      8.000000              1.0000       1.000000  \n",
       "25%                    340.000000              1.0000       4.000000  \n",
       "50%                    591.000000              2.0000       5.000000  \n",
       "75%                    978.000000              3.0000       5.000000  \n",
       "max                   3992.000000             20.0000       5.000000  "
      ]
     },
     "execution_count": 5,
     "metadata": {},
     "output_type": "execute_result"
    }
   ],
   "source": [
    "# Verifica algumas estatisticas da base\n",
    "compras.describe()"
   ]
  },
  {
   "cell_type": "markdown",
   "metadata": {},
   "source": [
    "Nota-se que há valores alguns possíveis outliers na base tal como:\n",
    "\n",
    "* Máximo valor de compra total em R\\$ 13.440 sendo que a média é R\\$ 129.12\n",
    "* Máximo valor do frete em R\\$ 1562,10 sendo que a média é de R\\$ 21.73\n",
    "* Máxima quantidade de items e vendedores 20 e 30 respectivamente, sendo que a média está em 1"
   ]
  },
  {
   "cell_type": "code",
   "execution_count": 6,
   "metadata": {},
   "outputs": [
    {
     "data": {
      "text/html": [
       "<div>\n",
       "<style scoped>\n",
       "    .dataframe tbody tr th:only-of-type {\n",
       "        vertical-align: middle;\n",
       "    }\n",
       "\n",
       "    .dataframe tbody tr th {\n",
       "        vertical-align: top;\n",
       "    }\n",
       "\n",
       "    .dataframe thead th {\n",
       "        text-align: right;\n",
       "    }\n",
       "</style>\n",
       "<table border=\"1\" class=\"dataframe\">\n",
       "  <thead>\n",
       "    <tr style=\"text-align: right;\">\n",
       "      <th></th>\n",
       "      <th>order_products_value</th>\n",
       "      <th>order_freight_value</th>\n",
       "      <th>order_items_qty</th>\n",
       "      <th>order_sellers_qty</th>\n",
       "      <th>customer_zip_code_prefix</th>\n",
       "      <th>product_name_lenght</th>\n",
       "      <th>product_description_lenght</th>\n",
       "      <th>product_photos_qty</th>\n",
       "      <th>review_score</th>\n",
       "    </tr>\n",
       "  </thead>\n",
       "  <tbody>\n",
       "    <tr>\n",
       "      <th>order_products_value</th>\n",
       "      <td>1.000000</td>\n",
       "      <td>0.408546</td>\n",
       "      <td>0.143897</td>\n",
       "      <td>-0.040623</td>\n",
       "      <td>0.043512</td>\n",
       "      <td>0.014043</td>\n",
       "      <td>0.202337</td>\n",
       "      <td>0.041671</td>\n",
       "      <td>-0.020872</td>\n",
       "    </tr>\n",
       "    <tr>\n",
       "      <th>order_freight_value</th>\n",
       "      <td>0.408546</td>\n",
       "      <td>1.000000</td>\n",
       "      <td>0.409496</td>\n",
       "      <td>-0.021701</td>\n",
       "      <td>0.188085</td>\n",
       "      <td>0.002646</td>\n",
       "      <td>0.080937</td>\n",
       "      <td>-0.012479</td>\n",
       "      <td>-0.072316</td>\n",
       "    </tr>\n",
       "    <tr>\n",
       "      <th>order_items_qty</th>\n",
       "      <td>0.143897</td>\n",
       "      <td>0.409496</td>\n",
       "      <td>1.000000</td>\n",
       "      <td>0.000363</td>\n",
       "      <td>-0.003224</td>\n",
       "      <td>-0.020005</td>\n",
       "      <td>0.003131</td>\n",
       "      <td>-0.044022</td>\n",
       "      <td>-0.079544</td>\n",
       "    </tr>\n",
       "    <tr>\n",
       "      <th>order_sellers_qty</th>\n",
       "      <td>-0.040623</td>\n",
       "      <td>-0.021701</td>\n",
       "      <td>0.000363</td>\n",
       "      <td>1.000000</td>\n",
       "      <td>-0.006003</td>\n",
       "      <td>0.007521</td>\n",
       "      <td>-0.052667</td>\n",
       "      <td>-0.030985</td>\n",
       "      <td>-0.137218</td>\n",
       "    </tr>\n",
       "    <tr>\n",
       "      <th>customer_zip_code_prefix</th>\n",
       "      <td>0.043512</td>\n",
       "      <td>0.188085</td>\n",
       "      <td>-0.003224</td>\n",
       "      <td>-0.006003</td>\n",
       "      <td>1.000000</td>\n",
       "      <td>0.001541</td>\n",
       "      <td>0.025423</td>\n",
       "      <td>0.014820</td>\n",
       "      <td>-0.012644</td>\n",
       "    </tr>\n",
       "    <tr>\n",
       "      <th>product_name_lenght</th>\n",
       "      <td>0.014043</td>\n",
       "      <td>0.002646</td>\n",
       "      <td>-0.020005</td>\n",
       "      <td>0.007521</td>\n",
       "      <td>0.001541</td>\n",
       "      <td>1.000000</td>\n",
       "      <td>0.052773</td>\n",
       "      <td>0.093393</td>\n",
       "      <td>-0.007359</td>\n",
       "    </tr>\n",
       "    <tr>\n",
       "      <th>product_description_lenght</th>\n",
       "      <td>0.202337</td>\n",
       "      <td>0.080937</td>\n",
       "      <td>0.003131</td>\n",
       "      <td>-0.052667</td>\n",
       "      <td>0.025423</td>\n",
       "      <td>0.052773</td>\n",
       "      <td>1.000000</td>\n",
       "      <td>0.109984</td>\n",
       "      <td>0.015390</td>\n",
       "    </tr>\n",
       "    <tr>\n",
       "      <th>product_photos_qty</th>\n",
       "      <td>0.041671</td>\n",
       "      <td>-0.012479</td>\n",
       "      <td>-0.044022</td>\n",
       "      <td>-0.030985</td>\n",
       "      <td>0.014820</td>\n",
       "      <td>0.093393</td>\n",
       "      <td>0.109984</td>\n",
       "      <td>1.000000</td>\n",
       "      <td>0.017267</td>\n",
       "    </tr>\n",
       "    <tr>\n",
       "      <th>review_score</th>\n",
       "      <td>-0.020872</td>\n",
       "      <td>-0.072316</td>\n",
       "      <td>-0.079544</td>\n",
       "      <td>-0.137218</td>\n",
       "      <td>-0.012644</td>\n",
       "      <td>-0.007359</td>\n",
       "      <td>0.015390</td>\n",
       "      <td>0.017267</td>\n",
       "      <td>1.000000</td>\n",
       "    </tr>\n",
       "  </tbody>\n",
       "</table>\n",
       "</div>"
      ],
      "text/plain": [
       "                            order_products_value  order_freight_value  \\\n",
       "order_products_value                    1.000000             0.408546   \n",
       "order_freight_value                     0.408546             1.000000   \n",
       "order_items_qty                         0.143897             0.409496   \n",
       "order_sellers_qty                      -0.040623            -0.021701   \n",
       "customer_zip_code_prefix                0.043512             0.188085   \n",
       "product_name_lenght                     0.014043             0.002646   \n",
       "product_description_lenght              0.202337             0.080937   \n",
       "product_photos_qty                      0.041671            -0.012479   \n",
       "review_score                           -0.020872            -0.072316   \n",
       "\n",
       "                            order_items_qty  order_sellers_qty  \\\n",
       "order_products_value               0.143897          -0.040623   \n",
       "order_freight_value                0.409496          -0.021701   \n",
       "order_items_qty                    1.000000           0.000363   \n",
       "order_sellers_qty                  0.000363           1.000000   \n",
       "customer_zip_code_prefix          -0.003224          -0.006003   \n",
       "product_name_lenght               -0.020005           0.007521   \n",
       "product_description_lenght         0.003131          -0.052667   \n",
       "product_photos_qty                -0.044022          -0.030985   \n",
       "review_score                      -0.079544          -0.137218   \n",
       "\n",
       "                            customer_zip_code_prefix  product_name_lenght  \\\n",
       "order_products_value                        0.043512             0.014043   \n",
       "order_freight_value                         0.188085             0.002646   \n",
       "order_items_qty                            -0.003224            -0.020005   \n",
       "order_sellers_qty                          -0.006003             0.007521   \n",
       "customer_zip_code_prefix                    1.000000             0.001541   \n",
       "product_name_lenght                         0.001541             1.000000   \n",
       "product_description_lenght                  0.025423             0.052773   \n",
       "product_photos_qty                          0.014820             0.093393   \n",
       "review_score                               -0.012644            -0.007359   \n",
       "\n",
       "                            product_description_lenght  product_photos_qty  \\\n",
       "order_products_value                          0.202337            0.041671   \n",
       "order_freight_value                           0.080937           -0.012479   \n",
       "order_items_qty                               0.003131           -0.044022   \n",
       "order_sellers_qty                            -0.052667           -0.030985   \n",
       "customer_zip_code_prefix                      0.025423            0.014820   \n",
       "product_name_lenght                           0.052773            0.093393   \n",
       "product_description_lenght                    1.000000            0.109984   \n",
       "product_photos_qty                            0.109984            1.000000   \n",
       "review_score                                  0.015390            0.017267   \n",
       "\n",
       "                            review_score  \n",
       "order_products_value           -0.020872  \n",
       "order_freight_value            -0.072316  \n",
       "order_items_qty                -0.079544  \n",
       "order_sellers_qty              -0.137218  \n",
       "customer_zip_code_prefix       -0.012644  \n",
       "product_name_lenght            -0.007359  \n",
       "product_description_lenght      0.015390  \n",
       "product_photos_qty              0.017267  \n",
       "review_score                    1.000000  "
      ]
     },
     "execution_count": 6,
     "metadata": {},
     "output_type": "execute_result"
    }
   ],
   "source": [
    "compras.corr()"
   ]
  },
  {
   "cell_type": "markdown",
   "metadata": {},
   "source": [
    "Há apenas uma pequena correlação entre o valor da compra e do frete"
   ]
  },
  {
   "cell_type": "markdown",
   "metadata": {},
   "source": [
    "## Filtra a base e verifica consistência dos dados"
   ]
  },
  {
   "cell_type": "markdown",
   "metadata": {},
   "source": [
    " Utiliza apenas as vendas marcadas como entregues"
   ]
  },
  {
   "cell_type": "code",
   "execution_count": 7,
   "metadata": {},
   "outputs": [
    {
     "data": {
      "text/plain": [
       "array(['delivered', 'canceled', 'shipped', 'invoiced', 'processing',\n",
       "       'unavailable', 'approved'], dtype=object)"
      ]
     },
     "execution_count": 7,
     "metadata": {},
     "output_type": "execute_result"
    }
   ],
   "source": [
    "compras[\"order_status\"].unique()"
   ]
  },
  {
   "cell_type": "code",
   "execution_count": 41,
   "metadata": {},
   "outputs": [],
   "source": [
    "compras_filtrada = compras[compras[\"order_status\"] == \"delivered\"]"
   ]
  },
  {
   "cell_type": "markdown",
   "metadata": {},
   "source": [
    "Remove os registros com data de entrega nula"
   ]
  },
  {
   "cell_type": "code",
   "execution_count": 43,
   "metadata": {},
   "outputs": [
    {
     "data": {
      "text/plain": [
       "False"
      ]
     },
     "execution_count": 43,
     "metadata": {},
     "output_type": "execute_result"
    }
   ],
   "source": [
    "compras_filtrada = compras_filtrada[compras_filtrada[\"order_delivered_customer_date\"].isnull() == False]\n",
    "compras_filtrada[\"order_delivered_customer_date\"].isnull().any()"
   ]
  },
  {
   "cell_type": "markdown",
   "metadata": {},
   "source": [
    "\n",
    "Calcula a quantidade de dias entre a entrega e a relização da compra"
   ]
  },
  {
   "cell_type": "code",
   "execution_count": 44,
   "metadata": {},
   "outputs": [],
   "source": [
    "from datetime import datetime\n",
    "\n",
    "dias_entrega = list(\n",
    "    map ( \n",
    "        lambda entrega, compra : \n",
    "        (\n",
    "            datetime.strptime(entrega, '%Y-%m-%d %H:%M:%S.%f') - datetime.strptime(compra, '%Y-%m-%d %H:%M:%S.%f')\n",
    "        ).days + 1,\n",
    "        compras_filtrada[\"order_delivered_customer_date\"],\n",
    "        compras_filtrada[\"order_purchase_timestamp\"]\n",
    "    ) \n",
    ")\n",
    "compras_filtrada[\"dias_entrega\"] = dias_entrega"
   ]
  },
  {
   "cell_type": "markdown",
   "metadata": {},
   "source": [
    "Filtra novamente a base utilizando apenas as colunas que serão utilizadas na analise"
   ]
  },
  {
   "cell_type": "code",
   "execution_count": 45,
   "metadata": {},
   "outputs": [],
   "source": [
    "col_list = ['order_products_value', 'dias_entrega', 'product_category_name', 'review_score']"
   ]
  },
  {
   "cell_type": "code",
   "execution_count": 46,
   "metadata": {},
   "outputs": [
    {
     "data": {
      "text/html": [
       "<div>\n",
       "<style scoped>\n",
       "    .dataframe tbody tr th:only-of-type {\n",
       "        vertical-align: middle;\n",
       "    }\n",
       "\n",
       "    .dataframe tbody tr th {\n",
       "        vertical-align: top;\n",
       "    }\n",
       "\n",
       "    .dataframe thead th {\n",
       "        text-align: right;\n",
       "    }\n",
       "</style>\n",
       "<table border=\"1\" class=\"dataframe\">\n",
       "  <thead>\n",
       "    <tr style=\"text-align: right;\">\n",
       "      <th></th>\n",
       "      <th>order_products_value</th>\n",
       "      <th>dias_entrega</th>\n",
       "      <th>product_category_name</th>\n",
       "      <th>review_score</th>\n",
       "    </tr>\n",
       "  </thead>\n",
       "  <tbody>\n",
       "    <tr>\n",
       "      <th>0</th>\n",
       "      <td>349.90</td>\n",
       "      <td>6</td>\n",
       "      <td>beleza_saude</td>\n",
       "      <td>5</td>\n",
       "    </tr>\n",
       "    <tr>\n",
       "      <th>1</th>\n",
       "      <td>15.00</td>\n",
       "      <td>5</td>\n",
       "      <td>informatica_acessorios</td>\n",
       "      <td>5</td>\n",
       "    </tr>\n",
       "    <tr>\n",
       "      <th>2</th>\n",
       "      <td>238.90</td>\n",
       "      <td>7</td>\n",
       "      <td>automotivo</td>\n",
       "      <td>5</td>\n",
       "    </tr>\n",
       "    <tr>\n",
       "      <th>3</th>\n",
       "      <td>29.99</td>\n",
       "      <td>24</td>\n",
       "      <td>cama_mesa_banho</td>\n",
       "      <td>4</td>\n",
       "    </tr>\n",
       "    <tr>\n",
       "      <th>4</th>\n",
       "      <td>295.99</td>\n",
       "      <td>15</td>\n",
       "      <td>moveis_decoracao</td>\n",
       "      <td>5</td>\n",
       "    </tr>\n",
       "  </tbody>\n",
       "</table>\n",
       "</div>"
      ],
      "text/plain": [
       "   order_products_value  dias_entrega   product_category_name  review_score\n",
       "0                349.90             6            beleza_saude             5\n",
       "1                 15.00             5  informatica_acessorios             5\n",
       "2                238.90             7              automotivo             5\n",
       "3                 29.99            24         cama_mesa_banho             4\n",
       "4                295.99            15        moveis_decoracao             5"
      ]
     },
     "execution_count": 46,
     "metadata": {},
     "output_type": "execute_result"
    }
   ],
   "source": [
    "#filtrar apenas as colunas necessarias\n",
    "compras_filtrada = compras_filtrada[col_list]\n",
    "compras_filtrada.head(5)"
   ]
  },
  {
   "cell_type": "code",
   "execution_count": 47,
   "metadata": {},
   "outputs": [
    {
     "data": {
      "text/html": [
       "<div>\n",
       "<style scoped>\n",
       "    .dataframe tbody tr th:only-of-type {\n",
       "        vertical-align: middle;\n",
       "    }\n",
       "\n",
       "    .dataframe tbody tr th {\n",
       "        vertical-align: top;\n",
       "    }\n",
       "\n",
       "    .dataframe thead th {\n",
       "        text-align: right;\n",
       "    }\n",
       "</style>\n",
       "<table border=\"1\" class=\"dataframe\">\n",
       "  <thead>\n",
       "    <tr style=\"text-align: right;\">\n",
       "      <th></th>\n",
       "      <th>order_products_value</th>\n",
       "      <th>dias_entrega</th>\n",
       "      <th>review_score</th>\n",
       "    </tr>\n",
       "  </thead>\n",
       "  <tbody>\n",
       "    <tr>\n",
       "      <th>count</th>\n",
       "      <td>97586.000000</td>\n",
       "      <td>97586.000000</td>\n",
       "      <td>97586.000000</td>\n",
       "    </tr>\n",
       "    <tr>\n",
       "      <th>mean</th>\n",
       "      <td>128.366437</td>\n",
       "      <td>13.285041</td>\n",
       "      <td>4.110323</td>\n",
       "    </tr>\n",
       "    <tr>\n",
       "      <th>std</th>\n",
       "      <td>191.181410</td>\n",
       "      <td>9.524666</td>\n",
       "      <td>1.314992</td>\n",
       "    </tr>\n",
       "    <tr>\n",
       "      <th>min</th>\n",
       "      <td>2.290000</td>\n",
       "      <td>1.000000</td>\n",
       "      <td>1.000000</td>\n",
       "    </tr>\n",
       "    <tr>\n",
       "      <th>25%</th>\n",
       "      <td>46.900000</td>\n",
       "      <td>7.000000</td>\n",
       "      <td>4.000000</td>\n",
       "    </tr>\n",
       "    <tr>\n",
       "      <th>50%</th>\n",
       "      <td>82.990000</td>\n",
       "      <td>11.000000</td>\n",
       "      <td>5.000000</td>\n",
       "    </tr>\n",
       "    <tr>\n",
       "      <th>75%</th>\n",
       "      <td>145.000000</td>\n",
       "      <td>16.000000</td>\n",
       "      <td>5.000000</td>\n",
       "    </tr>\n",
       "    <tr>\n",
       "      <th>max</th>\n",
       "      <td>13440.000000</td>\n",
       "      <td>210.000000</td>\n",
       "      <td>5.000000</td>\n",
       "    </tr>\n",
       "  </tbody>\n",
       "</table>\n",
       "</div>"
      ],
      "text/plain": [
       "       order_products_value  dias_entrega  review_score\n",
       "count          97586.000000  97586.000000  97586.000000\n",
       "mean             128.366437     13.285041      4.110323\n",
       "std              191.181410      9.524666      1.314992\n",
       "min                2.290000      1.000000      1.000000\n",
       "25%               46.900000      7.000000      4.000000\n",
       "50%               82.990000     11.000000      5.000000\n",
       "75%              145.000000     16.000000      5.000000\n",
       "max            13440.000000    210.000000      5.000000"
      ]
     },
     "execution_count": 47,
     "metadata": {},
     "output_type": "execute_result"
    }
   ],
   "source": [
    "compras_filtrada.describe()"
   ]
  },
  {
   "cell_type": "code",
   "execution_count": 48,
   "metadata": {},
   "outputs": [
    {
     "data": {
      "text/plain": [
       "order_products_value     False\n",
       "dias_entrega             False\n",
       "product_category_name    False\n",
       "review_score             False\n",
       "dtype: bool"
      ]
     },
     "execution_count": 48,
     "metadata": {},
     "output_type": "execute_result"
    }
   ],
   "source": [
    "#Verifica se há valores nulos\n",
    "compras_filtrada.isnull().any()"
   ]
  },
  {
   "cell_type": "code",
   "execution_count": 49,
   "metadata": {},
   "outputs": [],
   "source": [
    "cols_numericas = [\"order_products_value\",\"dias_entrega\",\"review_score\"]\n",
    "\n",
    "#Lista as colunas que possuem valores zerados \n",
    "for col in cols_numericas: \n",
    "    vet_0 = compras_filtrada[compras_filtrada[col] == 0]\n",
    "    if (len(vet_0) > 0):\n",
    "       print(\"Coluna = \" + col + \" com valores zerados\\n\")\n",
    "       print(\"\\n\")"
   ]
  },
  {
   "cell_type": "markdown",
   "metadata": {},
   "source": [
    "Não há valores zerados na base"
   ]
  },
  {
   "cell_type": "markdown",
   "metadata": {},
   "source": [
    "## Transforma as colunas em formato string para numérico"
   ]
  },
  {
   "cell_type": "code",
   "execution_count": 50,
   "metadata": {},
   "outputs": [],
   "source": [
    "#função que mapea uma string em uma lista em um valor unico numérico\n",
    "def mapear_serie(serie):\n",
    "    dict_gen = {}\n",
    "    valores = serie.unique()\n",
    "    ordinal = 0 \n",
    "    for valor in valores:\n",
    "        ordinal += 1\n",
    "        dict_gen[valor] = ordinal \n",
    "            \n",
    "    return (dict_gen)"
   ]
  },
  {
   "cell_type": "code",
   "execution_count": 51,
   "metadata": {},
   "outputs": [],
   "source": [
    "#Converte todas as colunas alfanuméricas para os seus valores ordinais\n",
    "cols_alfa = [\"product_category_name\"]\n",
    "\n",
    "mapa_categoria = mapear_serie(compras_filtrada[col])\n",
    "\n",
    "for col in cols_alfa:\n",
    "    mapa_ordinal = mapear_serie(compras_filtrada[col])\n",
    "    compras_filtrada[col] = compras_filtrada[col].map(mapa_ordinal)"
   ]
  },
  {
   "cell_type": "code",
   "execution_count": 52,
   "metadata": {},
   "outputs": [
    {
     "data": {
      "text/html": [
       "<div>\n",
       "<style scoped>\n",
       "    .dataframe tbody tr th:only-of-type {\n",
       "        vertical-align: middle;\n",
       "    }\n",
       "\n",
       "    .dataframe tbody tr th {\n",
       "        vertical-align: top;\n",
       "    }\n",
       "\n",
       "    .dataframe thead th {\n",
       "        text-align: right;\n",
       "    }\n",
       "</style>\n",
       "<table border=\"1\" class=\"dataframe\">\n",
       "  <thead>\n",
       "    <tr style=\"text-align: right;\">\n",
       "      <th></th>\n",
       "      <th>order_products_value</th>\n",
       "      <th>dias_entrega</th>\n",
       "      <th>product_category_name</th>\n",
       "      <th>review_score</th>\n",
       "    </tr>\n",
       "  </thead>\n",
       "  <tbody>\n",
       "    <tr>\n",
       "      <th>0</th>\n",
       "      <td>349.90</td>\n",
       "      <td>6</td>\n",
       "      <td>1</td>\n",
       "      <td>5</td>\n",
       "    </tr>\n",
       "    <tr>\n",
       "      <th>1</th>\n",
       "      <td>15.00</td>\n",
       "      <td>5</td>\n",
       "      <td>2</td>\n",
       "      <td>5</td>\n",
       "    </tr>\n",
       "    <tr>\n",
       "      <th>2</th>\n",
       "      <td>238.90</td>\n",
       "      <td>7</td>\n",
       "      <td>3</td>\n",
       "      <td>5</td>\n",
       "    </tr>\n",
       "    <tr>\n",
       "      <th>3</th>\n",
       "      <td>29.99</td>\n",
       "      <td>24</td>\n",
       "      <td>4</td>\n",
       "      <td>4</td>\n",
       "    </tr>\n",
       "    <tr>\n",
       "      <th>4</th>\n",
       "      <td>295.99</td>\n",
       "      <td>15</td>\n",
       "      <td>5</td>\n",
       "      <td>5</td>\n",
       "    </tr>\n",
       "  </tbody>\n",
       "</table>\n",
       "</div>"
      ],
      "text/plain": [
       "   order_products_value  dias_entrega  product_category_name  review_score\n",
       "0                349.90             6                      1             5\n",
       "1                 15.00             5                      2             5\n",
       "2                238.90             7                      3             5\n",
       "3                 29.99            24                      4             4\n",
       "4                295.99            15                      5             5"
      ]
     },
     "execution_count": 52,
     "metadata": {},
     "output_type": "execute_result"
    }
   ],
   "source": [
    "compras_filtrada.head(5)"
   ]
  },
  {
   "cell_type": "markdown",
   "metadata": {},
   "source": [
    "## Normaliza a base"
   ]
  },
  {
   "cell_type": "code",
   "execution_count": 53,
   "metadata": {},
   "outputs": [],
   "source": [
    "# funcao para normalizar os dados pela media, ou seja, a média ficará zerada\n",
    "def normalize(df,colunas):\n",
    "    df_aux = df.copy()\n",
    "    for col in colunas:\n",
    "        df_aux[col] = (df_aux[col] - df_aux[col].mean()) / (df_aux[col].max() - df_aux[col].min())\n",
    "    return (df_aux) "
   ]
  },
  {
   "cell_type": "code",
   "execution_count": 54,
   "metadata": {},
   "outputs": [
    {
     "data": {
      "text/html": [
       "<div>\n",
       "<style scoped>\n",
       "    .dataframe tbody tr th:only-of-type {\n",
       "        vertical-align: middle;\n",
       "    }\n",
       "\n",
       "    .dataframe tbody tr th {\n",
       "        vertical-align: top;\n",
       "    }\n",
       "\n",
       "    .dataframe thead th {\n",
       "        text-align: right;\n",
       "    }\n",
       "</style>\n",
       "<table border=\"1\" class=\"dataframe\">\n",
       "  <thead>\n",
       "    <tr style=\"text-align: right;\">\n",
       "      <th></th>\n",
       "      <th>order_products_value</th>\n",
       "      <th>dias_entrega</th>\n",
       "      <th>product_category_name</th>\n",
       "      <th>review_score</th>\n",
       "    </tr>\n",
       "  </thead>\n",
       "  <tbody>\n",
       "    <tr>\n",
       "      <th>0</th>\n",
       "      <td>0.016486</td>\n",
       "      <td>-0.034857</td>\n",
       "      <td>-0.156355</td>\n",
       "      <td>0.222419</td>\n",
       "    </tr>\n",
       "    <tr>\n",
       "      <th>1</th>\n",
       "      <td>-0.008436</td>\n",
       "      <td>-0.039641</td>\n",
       "      <td>-0.142069</td>\n",
       "      <td>0.222419</td>\n",
       "    </tr>\n",
       "    <tr>\n",
       "      <th>2</th>\n",
       "      <td>0.008226</td>\n",
       "      <td>-0.030072</td>\n",
       "      <td>-0.127783</td>\n",
       "      <td>0.222419</td>\n",
       "    </tr>\n",
       "    <tr>\n",
       "      <th>3</th>\n",
       "      <td>-0.007321</td>\n",
       "      <td>0.051268</td>\n",
       "      <td>-0.113498</td>\n",
       "      <td>-0.027581</td>\n",
       "    </tr>\n",
       "    <tr>\n",
       "      <th>4</th>\n",
       "      <td>0.012474</td>\n",
       "      <td>0.008206</td>\n",
       "      <td>-0.099212</td>\n",
       "      <td>0.222419</td>\n",
       "    </tr>\n",
       "  </tbody>\n",
       "</table>\n",
       "</div>"
      ],
      "text/plain": [
       "   order_products_value  dias_entrega  product_category_name  review_score\n",
       "0              0.016486     -0.034857              -0.156355      0.222419\n",
       "1             -0.008436     -0.039641              -0.142069      0.222419\n",
       "2              0.008226     -0.030072              -0.127783      0.222419\n",
       "3             -0.007321      0.051268              -0.113498     -0.027581\n",
       "4              0.012474      0.008206              -0.099212      0.222419"
      ]
     },
     "execution_count": 54,
     "metadata": {},
     "output_type": "execute_result"
    }
   ],
   "source": [
    "compras_filtrada = normalize(compras_filtrada,col_list)\n",
    "compras_filtrada.head(5)"
   ]
  },
  {
   "cell_type": "markdown",
   "metadata": {},
   "source": [
    "## Procura e remove outliers"
   ]
  },
  {
   "cell_type": "code",
   "execution_count": 55,
   "metadata": {},
   "outputs": [],
   "source": [
    "def identificacao_outlier(df, col): \n",
    "    print(col)\n",
    " \n",
    "    estat = df.describe()\n",
    "    #Intervalo inter-quartil\n",
    "    iq = (estat[col][\"75%\"] - estat[col][\"25%\"])\n",
    "    #Limite superior para outlier é 5 vezes o intervalo interquartílica acima do 75% percentil\n",
    "    lim_sup = estat[col][\"75%\"] + 5 * iq \n",
    "    #Limite inferior para outlier é 5 vezes o intervalo interquarílica abaixo do 25% percentil\n",
    "    lim_inf = estat[col][\"25%\"] - 5 * iq \n",
    "    #Seleciona os elementos que seguem a regra calculada acima\n",
    "    vet_out_sup = df[(df[col] > lim_sup)][[col]]\n",
    "    vet_out_inf = df[(df[col] < lim_inf)][[col]]\n",
    "    #Se algum elemento foi selecionado, imprima\n",
    "    if (len(vet_out_sup) > 0 ):\n",
    "       print(\"Quantidade de candidatos a outliers superiores para [\" + col + \"]: \" + str(len(vet_out_sup))) \n",
    "       print(\"Limite: \" + str(lim_sup))\n",
    "    \n",
    "    if (len(vet_out_inf) > 0 ):\n",
    "       print(\"Quantidade de candidatos a outliers inferiores para [\" + col + \"]: \" + str(len(vet_out_inf)))\n",
    "       print(\"Limite: \" + str(lim_inf))"
   ]
  },
  {
   "cell_type": "code",
   "execution_count": 56,
   "metadata": {},
   "outputs": [
    {
     "name": "stdout",
     "output_type": "stream",
     "text": [
      "order_products_value\n",
      "Quantidade de candidatos a outliers superiores para [order_products_value]: 1813\n",
      "Limite: 0.037739582363244074\n",
      "dias_entrega\n",
      "Quantidade de candidatos a outliers superiores para [dias_entrega]: 287\n",
      "Limite: 0.22830123977505992\n",
      "review_score\n"
     ]
    }
   ],
   "source": [
    "for col in cols_numericas: \n",
    "    identificacao_outlier(compras_filtrada,col)"
   ]
  },
  {
   "cell_type": "markdown",
   "metadata": {},
   "source": [
    "Há outliers para o valor do produto e dias para entrega. A seguir, esses dados são removidos."
   ]
  },
  {
   "cell_type": "code",
   "execution_count": 57,
   "metadata": {},
   "outputs": [],
   "source": [
    "compras_sem_outlier = compras_filtrada[compras_filtrada[\"order_products_value\"] <= 0.037739582363244074]\n",
    "compras_sem_outlier = compras_sem_outlier[compras_filtrada[\"dias_entrega\"] <= 0.22830123977505992]"
   ]
  },
  {
   "cell_type": "code",
   "execution_count": 58,
   "metadata": {},
   "outputs": [
    {
     "data": {
      "text/html": [
       "<div>\n",
       "<style scoped>\n",
       "    .dataframe tbody tr th:only-of-type {\n",
       "        vertical-align: middle;\n",
       "    }\n",
       "\n",
       "    .dataframe tbody tr th {\n",
       "        vertical-align: top;\n",
       "    }\n",
       "\n",
       "    .dataframe thead th {\n",
       "        text-align: right;\n",
       "    }\n",
       "</style>\n",
       "<table border=\"1\" class=\"dataframe\">\n",
       "  <thead>\n",
       "    <tr style=\"text-align: right;\">\n",
       "      <th></th>\n",
       "      <th>order_products_value</th>\n",
       "      <th>dias_entrega</th>\n",
       "      <th>product_category_name</th>\n",
       "      <th>review_score</th>\n",
       "    </tr>\n",
       "  </thead>\n",
       "  <tbody>\n",
       "    <tr>\n",
       "      <th>count</th>\n",
       "      <td>95497.000000</td>\n",
       "      <td>95497.000000</td>\n",
       "      <td>95497.000000</td>\n",
       "      <td>95497.000000</td>\n",
       "    </tr>\n",
       "    <tr>\n",
       "      <th>mean</th>\n",
       "      <td>-0.001370</td>\n",
       "      <td>-0.001258</td>\n",
       "      <td>-0.001468</td>\n",
       "      <td>0.001818</td>\n",
       "    </tr>\n",
       "    <tr>\n",
       "      <th>std</th>\n",
       "      <td>0.007289</td>\n",
       "      <td>0.039868</td>\n",
       "      <td>0.158343</td>\n",
       "      <td>0.326905</td>\n",
       "    </tr>\n",
       "    <tr>\n",
       "      <th>min</th>\n",
       "      <td>-0.009382</td>\n",
       "      <td>-0.058780</td>\n",
       "      <td>-0.156355</td>\n",
       "      <td>-0.777581</td>\n",
       "    </tr>\n",
       "    <tr>\n",
       "      <th>25%</th>\n",
       "      <td>-0.006137</td>\n",
       "      <td>-0.030072</td>\n",
       "      <td>-0.113498</td>\n",
       "      <td>-0.027581</td>\n",
       "    </tr>\n",
       "    <tr>\n",
       "      <th>50%</th>\n",
       "      <td>-0.003600</td>\n",
       "      <td>-0.010933</td>\n",
       "      <td>-0.056355</td>\n",
       "      <td>0.222419</td>\n",
       "    </tr>\n",
       "    <tr>\n",
       "      <th>75%</th>\n",
       "      <td>0.000858</td>\n",
       "      <td>0.012990</td>\n",
       "      <td>0.072217</td>\n",
       "      <td>0.222419</td>\n",
       "    </tr>\n",
       "    <tr>\n",
       "      <th>max</th>\n",
       "      <td>0.037564</td>\n",
       "      <td>0.228301</td>\n",
       "      <td>0.843645</td>\n",
       "      <td>0.222419</td>\n",
       "    </tr>\n",
       "  </tbody>\n",
       "</table>\n",
       "</div>"
      ],
      "text/plain": [
       "       order_products_value  dias_entrega  product_category_name  review_score\n",
       "count          95497.000000  95497.000000           95497.000000  95497.000000\n",
       "mean              -0.001370     -0.001258              -0.001468      0.001818\n",
       "std                0.007289      0.039868               0.158343      0.326905\n",
       "min               -0.009382     -0.058780              -0.156355     -0.777581\n",
       "25%               -0.006137     -0.030072              -0.113498     -0.027581\n",
       "50%               -0.003600     -0.010933              -0.056355      0.222419\n",
       "75%                0.000858      0.012990               0.072217      0.222419\n",
       "max                0.037564      0.228301               0.843645      0.222419"
      ]
     },
     "execution_count": 58,
     "metadata": {},
     "output_type": "execute_result"
    }
   ],
   "source": [
    "compras_sem_outlier.describe()"
   ]
  },
  {
   "cell_type": "markdown",
   "metadata": {},
   "source": [
    "## Usando método elbow para achar o k ideal"
   ]
  },
  {
   "cell_type": "code",
   "execution_count": 59,
   "metadata": {},
   "outputs": [
    {
     "data": {
      "image/png": "[encoded data removed]",
      "text/plain": [
       "<Figure size 432x288 with 1 Axes>"
      ]
     },
     "metadata": {},
     "output_type": "display_data"
    }
   ],
   "source": [
    "from sklearn.cluster import KMeans\n",
    "\n",
    "np.random.seed(42)\n",
    "\n",
    "square_sum = []\n",
    " \n",
    "# Verifica com 10 clusters\n",
    "for i in range(1, 11):\n",
    "    kmeans = KMeans(n_clusters = i, n_init=20)\n",
    "    kmeans.fit(compras_sem_outlier.values)\n",
    "    square_sum.append(kmeans.inertia_)\n",
    "\n",
    "# plota para termos uma melhor ideia do k\n",
    "plt.plot(range(1, 11), square_sum)\n",
    "plt.xlabel('Numero de Clusters')\n",
    "plt.ylabel('Soma dos quadrados da distâncias') #within cluster sum of squares\n",
    "plt.show()"
   ]
  },
  {
   "cell_type": "markdown",
   "metadata": {},
   "source": [
    "Observando o gráfico acima, percebe-se que o k ideal, quando não há mais ganho, são 4 clusters"
   ]
  },
  {
   "cell_type": "markdown",
   "metadata": {},
   "source": [
    "## Gerando o k-means novamente"
   ]
  },
  {
   "cell_type": "code",
   "execution_count": 61,
   "metadata": {},
   "outputs": [
    {
     "data": {
      "text/plain": [
       "0    45570\n",
       "2    24561\n",
       "1    12967\n",
       "3    12399\n",
       "dtype: int64"
      ]
     },
     "execution_count": 61,
     "metadata": {},
     "output_type": "execute_result"
    }
   ],
   "source": [
    "# utilizando agora o k ideal\n",
    "np.random.seed(42)\n",
    "compras_kmeans = KMeans(n_clusters=4, n_init=20)\n",
    "compras_kmeans.fit(compras_sem_outlier.values)\n",
    "pd.Series(compras_kmeans.labels_).value_counts()"
   ]
  },
  {
   "cell_type": "markdown",
   "metadata": {},
   "source": [
    "## Observando os resultados"
   ]
  },
  {
   "cell_type": "code",
   "execution_count": 62,
   "metadata": {},
   "outputs": [],
   "source": [
    "# 0 - order_products_value\n",
    "# 1 - dias_entrega\n",
    "# 2 - product_category_name\n",
    "# 3 - review_score"
   ]
  },
  {
   "cell_type": "code",
   "execution_count": 64,
   "metadata": {},
   "outputs": [
    {
     "data": {
      "image/png": "[encoded data removed]",
      "text/plain": [
       "<Figure size 432x288 with 1 Axes>"
      ]
     },
     "metadata": {},
     "output_type": "display_data"
    }
   ],
   "source": [
    "plt.scatter(compras_sem_outlier.values[:,0], compras_sem_outlier.values[:,1], s = 10,c = compras_kmeans.labels_)\n",
    "plt.scatter(compras_kmeans.cluster_centers_[:, 0], compras_kmeans.cluster_centers_[:,1], s = 30, c = 'red',label = 'Centroids')\n",
    "plt.title('Clusters')\n",
    "plt.xlabel('order_products_value')\n",
    "plt.ylabel('dias_entrega')\n",
    "\n",
    "plt.show()"
   ]
  },
  {
   "cell_type": "code",
   "execution_count": 65,
   "metadata": {},
   "outputs": [
    {
     "data": {
      "image/png": "[encoded data removed]",
      "text/plain": [
       "<Figure size 432x288 with 1 Axes>"
      ]
     },
     "metadata": {},
     "output_type": "display_data"
    }
   ],
   "source": [
    "plt.scatter(compras_sem_outlier.values[:,0], compras_sem_outlier.values[:,2], s = 10,c = compras_kmeans.labels_)\n",
    "plt.scatter(compras_kmeans.cluster_centers_[:, 0], compras_kmeans.cluster_centers_[:,2], s = 30, c = 'red',label = 'Centroids')\n",
    "plt.title('Clusters')\n",
    "plt.xlabel('order_products_value')\n",
    "plt.ylabel('product_category_name')\n",
    "\n",
    "plt.show()"
   ]
  },
  {
   "cell_type": "code",
   "execution_count": 66,
   "metadata": {},
   "outputs": [
    {
     "data": {
      "image/png": "[encoded data removed]",
      "text/plain": [
       "<Figure size 432x288 with 1 Axes>"
      ]
     },
     "metadata": {},
     "output_type": "display_data"
    }
   ],
   "source": [
    "plt.scatter(compras_sem_outlier.values[:,0], compras_sem_outlier.values[:,3], s = 10,c = compras_kmeans.labels_)\n",
    "plt.scatter(compras_kmeans.cluster_centers_[:, 0], compras_kmeans.cluster_centers_[:,3], s = 30, c = 'red',label = 'Centroids')\n",
    "plt.title('Clusters')\n",
    "plt.xlabel('order_products_value')\n",
    "plt.ylabel('review_score')\n",
    "\n",
    "plt.show()"
   ]
  }
 ],
 "metadata": {
  "kernelspec": {
   "display_name": "Python 3",
   "language": "python",
   "name": "python3"
  },
  "language_info": {
   "codemirror_mode": {
    "name": "ipython",
    "version": 3
   },
   "file_extension": ".py",
   "mimetype": "text/x-python",
   "name": "python",
   "nbconvert_exporter": "python",
   "pygments_lexer": "ipython3",
   "version": "3.6.5"
  }
 },
 "nbformat": 4,
 "nbformat_minor": 2
}
